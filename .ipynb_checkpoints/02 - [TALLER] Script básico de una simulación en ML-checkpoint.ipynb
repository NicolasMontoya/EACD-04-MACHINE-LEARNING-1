{
 "cells": [
  {
   "cell_type": "markdown",
   "metadata": {},
   "source": [
    "### ¿Qué se debe considerar en una simulación de ML?"
   ]
  },
  {
   "cell_type": "code",
   "execution_count": null,
   "metadata": {},
   "outputs": [],
   "source": [
    "!wget --no-cache -O init.py -q https://raw.githubusercontent.com/UDEA-Esp-Analitica-y-Ciencia-de-Datos/EACD-04-MACHINE-LEARNING-1/master/init.py\n",
    "import init; init.init(force_download=False); "
   ]
  },
  {
   "cell_type": "markdown",
   "metadata": {},
   "source": [
    "<font color='teal'>**Elementos a considerar**:</font>\n",
    "\n",
    "- <font color=#b6d8e0>**Comprender el problema!**:</font>\n",
    "- Carga de datos, limpieza, preprocesemanieto, imputación.\n",
    "- Tamaño de la base de datos\n",
    "- Codificación de variables: \n",
    "    - Catergóricas\n",
    "    - Contínuas\n",
    "    - Discretas\n",
    "- Selección/extracción de características\n",
    "- Estandarización de variables \n",
    "- Métricas de evaluación \n",
    "- Metodologías de validación: considerar tipo de problema, distribución de clases en la BD, volúmen.\n",
    "- Modelos a evaluar\n",
    "- Hiperparámetros de los modelos y de los algoritmos de entrenamiento."
   ]
  },
  {
   "cell_type": "code",
   "execution_count": null,
   "metadata": {},
   "outputs": [],
   "source": [
    "from IPython.display import Image\n",
    "import numpy as np\n",
    "import matplotlib.pyplot as plt\n",
    "%matplotlib inline"
   ]
  }
 ],
 "metadata": {
  "kernelspec": {
   "display_name": "Python 3",
   "language": "python",
   "name": "python3"
  },
  "language_info": {
   "codemirror_mode": {
    "name": "ipython",
    "version": 3
   },
   "file_extension": ".py",
   "mimetype": "text/x-python",
   "name": "python",
   "nbconvert_exporter": "python",
   "pygments_lexer": "ipython3",
   "version": "3.7.6"
  }
 },
 "nbformat": 4,
 "nbformat_minor": 4
}
